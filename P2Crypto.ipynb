{
  "nbformat": 4,
  "nbformat_minor": 0,
  "metadata": {
    "colab": {
      "provenance": []
    },
    "kernelspec": {
      "name": "python3",
      "display_name": "Python 3"
    },
    "language_info": {
      "name": "python"
    }
  },
  "cells": [
    {
      "cell_type": "code",
      "source": [
        "# Insertamos valores \n",
        "\n",
        "# Valores de la curva\n",
        "\n",
        "a = 1\n",
        "b = 6\n",
        "p = 11\n",
        "\n",
        "# Puntos de la curva a evaluar\n",
        "\n",
        "P1 = (8, 8)\n",
        "P2 = (10, 2)\n",
        "\n",
        "\n",
        "# Variable para verificar si el punto es un generador\n",
        "\n",
        "pAux = [(3, 5)]\n",
        "\n",
        "\n"
      ],
      "metadata": {
        "id": "Lp9ui2Qo6R7x"
      },
      "execution_count": 17,
      "outputs": []
    },
    {
      "cell_type": "code",
      "source": [
        "def modSqrt(n, p):\n",
        "    if pow(n, (p-1)//2, p) != 1:\n",
        "        return None\n",
        "    q = p - 1\n",
        "    s = 0\n",
        "    while q % 2 == 0:\n",
        "        q //= 2\n",
        "        s += 1\n",
        "    if s == 1:\n",
        "        return pow(n, (p+1)//4, p)\n",
        "    for z in range(2, p):\n",
        "        if pow(z, (p-1)//2, p) == p-1:\n",
        "            break\n",
        "    c = pow(z, q, p)\n",
        "    r = pow(n, (q+1)//2, p)\n",
        "    t = pow(n, q, p)\n",
        "    m = s\n",
        "    while True:\n",
        "        if t == 1:\n",
        "            return r\n",
        "        i = 0\n",
        "        for i in range(m):\n",
        "            if pow(t, 2**i, p) == 1:\n",
        "                break\n",
        "        b = pow(c, 2**(m-i-1), p)\n",
        "        r = (r * b) % p\n",
        "        t = (t * b * b) % p\n",
        "        c = (b * b) % p\n",
        "        m = i\n",
        "\n",
        "def evalCurve(a, b, p):\n",
        "    curve_vals = []\n",
        "    for x in range(p):\n",
        "        y_squared = (x**3 + a*x + b) % p\n",
        "        curve_vals.append(y_squared)\n",
        "    return curve_vals"
      ],
      "metadata": {
        "id": "Y1-Pq4kR5IUV"
      },
      "execution_count": 2,
      "outputs": []
    },
    {
      "cell_type": "code",
      "source": [
        "def euclideanExt(a, b):\n",
        "    # Caso base\n",
        "    if b == 0:\n",
        "        return (a, 1, 0)\n",
        "\n",
        "    # Caso recursivo\n",
        "    gcd, x1, y1 = euclideanExt(b, a % b)\n",
        "    x = y1\n",
        "    y = x1 - (a // b) * y1\n",
        "    return (gcd, x, y)\n",
        "\n",
        "def modInv(a, m):\n",
        "    # Calcula el máximo común divisor y los coeficientes de Bezout\n",
        "    gcd, x, y = euclideanExt(a, m)\n",
        "\n",
        "    # Si a y m no son coprimos, no existe inverso multiplicativo\n",
        "    if gcd != 1:\n",
        "        return None\n",
        "\n",
        "    # Ajusta el valor de x para que esté en el rango [0, m)\n",
        "    return x % m\n",
        "            \n",
        "\n",
        "\n"
      ],
      "metadata": {
        "id": "hWPyb5QtzS_2"
      },
      "execution_count": 3,
      "outputs": []
    },
    {
      "cell_type": "code",
      "execution_count": null,
      "metadata": {
        "id": "uIceWh-qpOMs"
      },
      "outputs": [],
      "source": [
        "# Design a function that as input receives a, b and p, i.e. the parameters given for an elliptic curve y^2=x^3+ax+b mod p, and \n",
        "# two points in this curve P and Q. The output must be R = P + Q"
      ]
    },
    {
      "cell_type": "code",
      "source": [
        "def pointAddition(P1, P2, a, b, p):\n",
        "  if(P1 != P2):\n",
        "    # Se declara m inicialmente m en 0\n",
        "    if (P1 == None) | (P2 == None):\n",
        "      return \"Infinito\"\n",
        "\n",
        "    m = 0\n",
        "    x1 = P1[0]\n",
        "    x2 = P2[0]\n",
        "    y1 = P1[1]\n",
        "    y2 = P2[1]\n",
        "\n",
        "    # Verifica que no sea un doblado de puntos, sino lo es calcula a m como m = (y2 - y1)(x2 - x1)^-1 mod p\n",
        "    if((x1 == x2) & (y1 == y2)):\n",
        "      print(\"Esta es una función para P + Q\")\n",
        "\n",
        "    else:\n",
        "      # Opera m = (y2 - y1)(x2 - x1)^-1 mod p\n",
        "      powM = modInv(x2-x1, p)\n",
        "      m = (y2-y1)*(powM) % p\n",
        "\n",
        "    # Calcula los puntos resultantes para la suma de puntos como x3 y y3\n",
        "    x3 = ((m*m)-x1-x2) % p\n",
        "    y3 =  (m*(x1 - x3) -y1) % p\n",
        "\n",
        "    P = (x3, y3)\n",
        "    # Retornamos la tupla con el resultado \n",
        "    return P \n",
        "\n",
        "\n",
        "print(f\"Suma de puntos R = {P1} + {P2} = {pointAddition(P1, P2, a, b, p)}\")"
      ],
      "metadata": {
        "id": "uYroIYMtpr2V",
        "colab": {
          "base_uri": "https://localhost:8080/"
        },
        "outputId": "5ffad9d5-df7c-4139-fa95-aeb54bc3caee"
      },
      "execution_count": 18,
      "outputs": [
        {
          "output_type": "stream",
          "name": "stdout",
          "text": [
            "Suma de puntos R = None + (10, 2) = Infinito\n"
          ]
        }
      ]
    },
    {
      "cell_type": "code",
      "source": [
        "# 2. Design a function that as input receives a,b and p, i.e. the parameters given for an elliptic curve y^2=x^3+ax+b mod p, and \n",
        "# two points in this curve P and Q. The output must be Q = 2P =P+P"
      ],
      "metadata": {
        "id": "NSAJjlzl7Jqf"
      },
      "execution_count": null,
      "outputs": []
    },
    {
      "cell_type": "code",
      "source": [
        "def pointDoubling(P1, P2, a, b, p):\n",
        "  # Se declara m inicialmente m en 0 y también x3 y y3\n",
        "\n",
        "  if (P1 == None) & (P2 == None):\n",
        "    P = \"Infinito\"\n",
        "    return P\n",
        "\n",
        "  else:\n",
        "    # Se declara m inicialmente m en 0 y también x3 y y3, de igual forma rescartamos de la tupla de puntos sus coordenadas\n",
        "    m = 0\n",
        "    x3 = 0 \n",
        "    y3 = 0\n",
        "    x1 = P1[0]\n",
        "    x2 = P2[0]\n",
        "    y1 = P1[1]\n",
        "    y2 = P2[1]\n",
        "    # Verifica que sea un doblado de puntos, si lo es calcula a m como m = (y2 - y1)(x2 - x1)^-1 mod p\n",
        "    if((x1 == x2) & (y1 == y2)):\n",
        "      # Opera (2*y1)^-1 mod p\n",
        "      powM = modInv(2*y1, p)\n",
        "      m = ((3*pow(x1, 2) + a)  * powM) % p \n",
        "      print(m)\n",
        "      \n",
        "      # Calcula los puntos resultantes para el doblado de puntos como x3 y y3\n",
        "      x3 = ((m*m)-x1-x2) % p\n",
        "      y3 =  (m*(x1 - x3) -y1) % p\n",
        "\n",
        "      P = (x3, y3)\n",
        "\n",
        "      # Muestra los resultados \n",
        "      return P\n",
        "    else:\n",
        "      print(f\"Los puntos dados 'P = ({x1}, {y1}) Q = ({x2}, {y2})' no son correctos para 2P\")\n",
        "\n",
        "\n",
        "\n",
        "print(f\"Doblado de puntos {P1} + {P2} = {pointDoubling(P1, P2, a, b, p)}\")"
      ],
      "metadata": {
        "colab": {
          "base_uri": "https://localhost:8080/"
        },
        "id": "AwyQ4JTYvs9o",
        "outputId": "6fd688dd-b63e-4757-eddd-d952fe930a63"
      },
      "execution_count": 12,
      "outputs": [
        {
          "output_type": "stream",
          "name": "stdout",
          "text": [
            "Doblado de puntos None + None = Infinito\n"
          ]
        }
      ]
    },
    {
      "cell_type": "code",
      "source": [
        "# Llamamos a la función  que se hizo en la práctica anterior para generar una lista de puntos a partir de los parametros de la curva\n",
        "def ECpoints(a, b, p):\n",
        "    \"\"\"Encuentra los puntos en la curva elíptica y^2 = x^3 + ax + b (mod p)\"\"\"\n",
        "    curve_vals = evalCurve(a, b, p)\n",
        "    x_vals = []\n",
        "    y_vals = []\n",
        "    for x in range(p):\n",
        "        y_squared = curve_vals[x]\n",
        "        y = modSqrt(y_squared, p)\n",
        "        if y is not None:\n",
        "            x_vals.append(x)\n",
        "            y_vals.append(y)\n",
        "    points = []\n",
        "    for i in range(len(x_vals)):\n",
        "        points.append((x_vals[i], y_vals[i]))\n",
        "        if y_vals[i] != 0:\n",
        "            points.append((x_vals[i], p-y_vals[i]))\n",
        "    return points\n",
        "\n",
        "curvePoints = ECpoints(a, b, p)\n",
        "\n",
        "\n",
        "#Mostramos los puntos obtenidos de la función \n",
        "\n",
        "print(curvePoints)"
      ],
      "metadata": {
        "colab": {
          "base_uri": "https://localhost:8080/"
        },
        "id": "g1zaysihzwcd",
        "outputId": "5ffe1299-1773-4fb1-a310-352ae789c02c"
      },
      "execution_count": null,
      "outputs": [
        {
          "output_type": "stream",
          "name": "stdout",
          "text": [
            "[(2, 4), (2, 7), (3, 5), (3, 6), (5, 9), (5, 2), (7, 9), (7, 2), (8, 3), (8, 8), (10, 9), (10, 2)]\n"
          ]
        }
      ]
    },
    {
      "cell_type": "code",
      "source": [
        "''' \n",
        "\n",
        "Using the previous functions implement a function that receives as input a,b and p, i.e. the para-meters given for an elliptic curve\n",
        "y^2=x^3+ax+b mod p, and a point G in this curve. The outputwill be 1 or true if G is a generator or 0 or false if it is no \n",
        "\n",
        "'''"
      ],
      "metadata": {
        "id": "GTphvnTdE0Wt"
      },
      "execution_count": null,
      "outputs": []
    },
    {
      "cell_type": "code",
      "source": [
        "\n",
        "def pointChecker(a, b, point):\n",
        "  for i in range(0, len(curvePoints)):\n",
        "    # Obtenemos valores de la lista de puntos de la curva de la función que los calcula\n",
        "    pointInCurve = curvePoints[i]\n",
        "\n",
        "    # Hacemos una comparación para evaluar si el punto dado entra en algun valor dentro de la lista de valores obtenidos que cambiará por iteración\n",
        "    if point[0] == pointInCurve:\n",
        "\n",
        "      # Si encuentra un caso donde el punto sea un punto de la curva eso implica que es generador, por lo tanto devuelve 1\n",
        "      return 1\n",
        "      break\n",
        "  # Si no existieron coincidencias entre la lista y el punto dado, el punto no es generador y entonces devuelve 0\n",
        "  return 0\n",
        "\n",
        "pointChecker(a, b, pAux)"
      ],
      "metadata": {
        "colab": {
          "base_uri": "https://localhost:8080/"
        },
        "id": "HbxpDGJK98qJ",
        "outputId": "96a20673-efc4-4692-833e-f0f7099e978b"
      },
      "execution_count": null,
      "outputs": [
        {
          "output_type": "execute_result",
          "data": {
            "text/plain": [
              "1"
            ]
          },
          "metadata": {},
          "execution_count": 65
        }
      ]
    }
  ]
}