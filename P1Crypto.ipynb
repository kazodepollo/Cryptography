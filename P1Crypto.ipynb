{
  "nbformat": 4,
  "nbformat_minor": 0,
  "metadata": {
    "colab": {
      "provenance": [],
      "authorship_tag": "ABX9TyOwdbrANVMLdAIUapO5adLj",
      "include_colab_link": true
    },
    "kernelspec": {
      "name": "python3",
      "display_name": "Python 3"
    },
    "language_info": {
      "name": "python"
    }
  },
  "cells": [
    {
      "cell_type": "markdown",
      "metadata": {
        "id": "view-in-github",
        "colab_type": "text"
      },
      "source": [
        "<a href=\"https://colab.research.google.com/github/kazodepollo/Cryptography/blob/main/P1Crypto.ipynb\" target=\"_parent\"><img src=\"https://colab.research.google.com/assets/colab-badge.svg\" alt=\"Open In Colab\"/></a>"
      ]
    },
    {
      "cell_type": "code",
      "source": [
        "# Práctica 1. \n",
        "# Juan Carlos Briones Cruz\n",
        "# 6CM2\n",
        "# Selected Topics in Cryptography"
      ],
      "metadata": {
        "id": "ov_TT-hu5J69"
      },
      "execution_count": null,
      "outputs": []
    },
    {
      "cell_type": "code",
      "execution_count": null,
      "metadata": {
        "id": "ajs6mIKddhzi"
      },
      "outputs": [],
      "source": [
        "# Design a function that receives a,b and p, i.e. the parameters given for an elliptic curve y^2=x3+ax+b mod p, \n",
        "# and stores the result of evaluating x3+ax+b mod p for every 0≤ x ≤ p−1."
      ]
    },
    {
      "cell_type": "code",
      "source": [
        "# Determinante\n",
        "\n",
        "def det(a, b, prime):\n",
        "  if (4*pow(a, 3)+27*pow(b, 2)+b) != 0:\n",
        "    print(\"Los parametros de la curva son correctas\")\n",
        "  else:\n",
        "    print(\"Los parametros para la curva no son correctos\")\n",
        "\n",
        "det(1, 6, 17)"
      ],
      "metadata": {
        "colab": {
          "base_uri": "https://localhost:8080/"
        },
        "id": "RSFcT5ia2zsk",
        "outputId": "6640b63b-70f6-4651-cf5d-3e29dcc8470e"
      },
      "execution_count": 7,
      "outputs": [
        {
          "output_type": "stream",
          "name": "stdout",
          "text": [
            "Los parametros para la curva no son correctos\n"
          ]
        }
      ]
    },
    {
      "cell_type": "code",
      "source": [
        "# funcion 1.2\n",
        "def function1_2(a, b, p):\n",
        "  aux = {}\n",
        "  for i in range (0, p):\n",
        "    calc = (pow(i, 3) + a*i + b) % p\n",
        "    aux[i+1] = calc\n",
        "  \n",
        "  return aux # re"
      ],
      "metadata": {
        "id": "mLoHuSiteVle"
      },
      "execution_count": 1,
      "outputs": []
    },
    {
      "cell_type": "code",
      "source": [
        "# funcion 1.1\n",
        "\n",
        "def function1_1(a, b, p):\n",
        "  aux = []\n",
        "  x = []\n",
        "  # Con cada iteración podemos calcular el valor de y con la sustitucion de cada x, donde 0≤ x ≤ p−1.\n",
        "  for i in range (0, p):\n",
        "    calc = (pow(i, 3) + a*i + b) % p\n",
        "    x.append(i)\n",
        "    aux.append(calc)\n",
        "  \n",
        "  return aux, x # retornamos el valor calculado"
      ],
      "metadata": {
        "id": "rzbRwj4daHto"
      },
      "execution_count": 2,
      "outputs": []
    },
    {
      "cell_type": "code",
      "source": [
        "# mostramos los valores obtenidos pasandole los parametros a nuestra funcion 1\n",
        "\n",
        "print(function1_1(1, 6, 11)[0])"
      ],
      "metadata": {
        "colab": {
          "base_uri": "https://localhost:8080/"
        },
        "id": "ZxU8_p2apO3-",
        "outputId": "5e7a7651-d0d7-403b-8c8d-856c9c8e53ae"
      },
      "execution_count": 8,
      "outputs": [
        {
          "output_type": "stream",
          "name": "stdout",
          "text": [
            "[6, 8, 5, 3, 8, 4, 8, 4, 9, 7, 4]\n"
          ]
        }
      ]
    },
    {
      "cell_type": "code",
      "source": [
        "# Design a function that receives as input a prime numberpand find the quadratic residues modulo p. And also the square roots modulo p. For example if \n",
        "# p= 11 and we know that 22 mod 11 = 4 and 92 mod 11 = 4 we know that 4 is a quadratic residue and its square roots are 2 and 9."
      ],
      "metadata": {
        "id": "b5Jszi6hp9VC"
      },
      "execution_count": null,
      "outputs": []
    },
    {
      "cell_type": "code",
      "source": [
        "def function2(prime):\n",
        "  aux = (prime-1)/2\n",
        "  qR = []\n",
        "  # Calculamos que valores nos son utiles para como residuos cuadráticos\n",
        "  for i in range (0,prime):\n",
        "    calc = pow(i,aux) % prime\n",
        "    if calc == 1:\n",
        "      qR.append(i) # Agregamos el valor si cumple la condición a un array para manipularlo después\n",
        "  \n",
        "  return qR # Retornamos la lista \n",
        "\n",
        "print(f\"qR: {function2(17)}\")"
      ],
      "metadata": {
        "id": "CFXQdqFYc7ve",
        "colab": {
          "base_uri": "https://localhost:8080/"
        },
        "outputId": "b67fc573-cfd7-4627-e93b-0b33d198869d"
      },
      "execution_count": 9,
      "outputs": [
        {
          "output_type": "stream",
          "name": "stdout",
          "text": [
            "qR: [1, 2, 4, 8, 9, 13, 15, 16]\n"
          ]
        }
      ]
    },
    {
      "cell_type": "code",
      "source": [
        "# Using the previous functions to implement a function that receives the parameters of an elliptic curve,\n",
        "# i.e. a,b and pand as output finds the points in the curve y^2=x^3+ax+b mod p."
      ],
      "metadata": {
        "id": "mCCYs1Ol3Gxi"
      },
      "execution_count": null,
      "outputs": []
    },
    {
      "cell_type": "code",
      "source": [
        "def function3(prime):\n",
        "  aux = prime % 4\n",
        "\n",
        "  # Rescatamos algunos valores de calculos ya hechos\n",
        "\n",
        "  takeXEval = function1_1(1, 6, 11)[0]      # Cambiar los valores de este parametro conforme cambien los anteriores\n",
        "  takeQR = function2(prime)\n",
        "\n",
        "  # Calculamos longitudes que permiten procesos mas rápidos más adelante\n",
        "\n",
        "  lenXEval = len(takeXEval)\n",
        "  lenQR = len(takeQR)\n",
        "  QRindex = []\n",
        "\n",
        "  y1 = []\n",
        "  y2 = []\n",
        "\n",
        "  ellipticPoints = []\n",
        "\n",
        "  # Evaluamos si en algun punto los valores QR son iguales a los antes calculados al sustituír x para así solamente trabajar con ellos\n",
        "\n",
        "  for i in range (0, lenXEval):\n",
        "    for j in range (0, lenQR):\n",
        "      if takeQR[j] == takeXEval[i]:\n",
        "        QRindex.append(i)\n",
        "\n",
        "  # Calculamos los valores para y1\n",
        "  for i in range (0, len(QRindex)):\n",
        "    y1.append(pow(QRindex[i], aux) % prime)\n",
        "\n",
        "  # Calculamos los valores para y2\n",
        "  for i in range (0, len(y1)):\n",
        "    y2.append(-(y1[i]) % prime)\n",
        "\n",
        "  lenys= len(y1+y2)\n",
        "  ys= (y1+y2)\n",
        "\n",
        "\n",
        "  # Haciendo los puntos \n",
        "  c = 0\n",
        "  asignQR = 0\n",
        "  iniY1 = 0\n",
        "  iniY2 = 6\n",
        "\n",
        "  \n",
        "  for i in range (0, len(QRindex)): \n",
        "    # Por cada iteración hacemos un (xi, ji), en donde iremos concatenando los valores calculados anteriormente del QR index y de igual\n",
        "    # con las y's calculadas\n",
        "    ellipticPoints.append(f\"({QRindex[asignQR]}, {ys[iniY2]})\")\n",
        "    ellipticPoints.append(f\"({QRindex[asignQR]}, {ys[iniY1]})\")\n",
        "\n",
        "    c = c+1\n",
        "    asignQR = asignQR + 1\n",
        "    iniY1 = iniY1 + 1\n",
        "    iniY2 = iniY2 + 1\n",
        "\n",
        "  ellipticPoints.append(\"Infinito\")\n",
        "  print(\"Puntos de la curva\")\n",
        "  print(ellipticPoints)\n",
        "  \n",
        "\n",
        "\n",
        "\n",
        "function3(11) # mod prime"
      ],
      "metadata": {
        "colab": {
          "base_uri": "https://localhost:8080/"
        },
        "id": "Wxynuj_69l63",
        "outputId": "cc4f871f-509f-4e77-cc05-7c331c40b73e"
      },
      "execution_count": 10,
      "outputs": [
        {
          "output_type": "stream",
          "name": "stdout",
          "text": [
            "Puntos de la curva\n",
            "['(2, 3)', '(2, 8)', '(3, 6)', '(3, 5)', '(5, 7)', '(5, 4)', '(7, 9)', '(7, 2)', '(8, 5)', '(8, 6)', '(10, 1)', '(10, 10)', 'Infinito']\n"
          ]
        }
      ]
    },
    {
      "cell_type": "code",
      "source": [
        "import pandas as pd\n",
        "\n",
        "organizarDatos = pd.DataFrame()\n",
        "\n",
        "#organizarDatos[\"x\"] = function1_1(2, 2, 17)[1]\n",
        "organizarDatos[\"x^3 + ax + b mod p\"] = function1_1(1, 6, 11)[0]\n",
        "\n",
        "print(organizarDatos)"
      ],
      "metadata": {
        "colab": {
          "base_uri": "https://localhost:8080/"
        },
        "id": "OqRQC4ap4eLD",
        "outputId": "cb52a07a-9724-411a-ce5b-6ce6a7e2a5f8"
      },
      "execution_count": 12,
      "outputs": [
        {
          "output_type": "stream",
          "name": "stdout",
          "text": [
            "    x^3 + ax + b mod p\n",
            "0                    6\n",
            "1                    8\n",
            "2                    5\n",
            "3                    3\n",
            "4                    8\n",
            "5                    4\n",
            "6                    8\n",
            "7                    4\n",
            "8                    9\n",
            "9                    7\n",
            "10                   4\n"
          ]
        }
      ]
    }
  ]
}